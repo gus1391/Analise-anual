{
 "cells": [
  {
   "cell_type": "markdown",
   "id": "5c9a94da",
   "metadata": {},
   "source": [
    "# Automação do dashboard Analise Anual"
   ]
  },
  {
   "cell_type": "code",
   "execution_count": 12,
   "id": "ec6afa0c",
   "metadata": {},
   "outputs": [],
   "source": [
    "#imports\n",
    "\n",
    "import pandas as pd\n",
    "import os\n",
    "\n",
    "#defini o maximo de colunas que o pandas mostra por padrão\n",
    "pd.options.display.max_columns = 100"
   ]
  },
  {
   "cell_type": "code",
   "execution_count": 13,
   "id": "813dd625",
   "metadata": {},
   "outputs": [
    {
     "name": "stderr",
     "output_type": "stream",
     "text": [
      "C:\\Users\\Gustavo\\anaconda3\\lib\\site-packages\\openpyxl\\styles\\stylesheet.py:226: UserWarning: Workbook contains no default style, apply openpyxl's default\n",
      "  warn(\"Workbook contains no default style, apply openpyxl's default\")\n",
      "C:\\Users\\Gustavo\\AppData\\Local\\Temp\\ipykernel_5488\\2243884713.py:3: DtypeWarning: Columns (8,10,11,12,15,20,33,43,44,53,55,57,58,61,63,65,69,70,71,76,77,78) have mixed types. Specify dtype option on import or set low_memory=False.\n",
      "  df2 = pd.read_csv('dados/Moskit.csv', encoding='latin-1')\n"
     ]
    }
   ],
   "source": [
    "#importar datasets\n",
    "df1 = pd.read_excel('dados/Facebook.xlsx')\n",
    "df2 = pd.read_csv('dados/Moskit.csv', encoding='latin-1')\n"
   ]
  },
  {
   "cell_type": "code",
   "execution_count": 14,
   "id": "eb01f0c6",
   "metadata": {},
   "outputs": [],
   "source": [
    "#importar dataset das colunas\n",
    "df1_colum = pd.read_excel('dados/Colunas/Facebook colums.xlsx')\n",
    "df2_colum = pd.read_excel('dados/Colunas/Moskit colums.xlsx')\n"
   ]
  },
  {
   "cell_type": "code",
   "execution_count": 15,
   "id": "00f0a733",
   "metadata": {},
   "outputs": [],
   "source": [
    "#cria lista com o nome das colunas do dataset\n",
    "colunas1 = df1_colum.columns.tolist()\n",
    "colunas2 = df2_colum.columns.tolist()\n"
   ]
  },
  {
   "cell_type": "code",
   "execution_count": 16,
   "id": "5e0f0f81",
   "metadata": {},
   "outputs": [],
   "source": [
    "#deleta as colunas que não estão na lista\n",
    "df1 = df1.loc[:, colunas1]\n",
    "df2 = df2.loc[:, colunas2]\n"
   ]
  },
  {
   "cell_type": "code",
   "execution_count": 17,
   "id": "daf208bb",
   "metadata": {},
   "outputs": [],
   "source": [
    "\n",
    "def formatar_valor(df):\n",
    "    # substitui ponto por vírgula na coluna \"Valor\"\n",
    "    df['Valor'] = df['Valor'].replace('.', ',', regex=True)\n",
    "    \n",
    "    # converte a coluna \"Valor\" para o tipo monetário\n",
    "    df['Valor'] = pd.to_numeric(df['Valor'], errors='coerce')\n",
    "    \n",
    "    # formata a coluna \"Valor\" como tipo monetário\n",
    "    df['Valor'] = df['Valor'].apply(lambda x: '{:,.2f}'.format(x).replace(',', 'v').replace('.', ',').replace('v', '.'))    \n",
    "    return df"
   ]
  },
  {
   "cell_type": "code",
   "execution_count": 18,
   "id": "cea92fee",
   "metadata": {},
   "outputs": [],
   "source": [
    "df1 = df1.rename(columns={'Valor gasto (BRL)': 'Valor'})"
   ]
  },
  {
   "cell_type": "code",
   "execution_count": 19,
   "id": "bf531746",
   "metadata": {
    "scrolled": true
   },
   "outputs": [],
   "source": [
    "df1 = formatar_valor(df1)\n",
    "df2 = formatar_valor(df2)\n"
   ]
  },
  {
   "cell_type": "code",
   "execution_count": 20,
   "id": "4eb07ff2",
   "metadata": {},
   "outputs": [],
   "source": [
    "df1 = df1.rename(columns={'Valor': 'Valor gasto (BRL)'})"
   ]
  },
  {
   "cell_type": "code",
   "execution_count": 21,
   "id": "13234f8a",
   "metadata": {},
   "outputs": [],
   "source": [
    "def salvar_dataframe(dataframe, nome_arquivo):\n",
    "    # Define o caminho onde o arquivo será salvo\n",
    "    caminho_salvar = 'C:\\\\Users\\\\Gustavo\\\\Documents\\\\Mont seguro\\\\Análise Anual de SQLs\\\\'\n",
    "    # Define o nome completo do arquivo, incluindo o caminho\n",
    "    caminho_completo = os.path.join(caminho_salvar, nome_arquivo)\n",
    "    # Salva o DataFrame em um arquivo Excel\n",
    "    dataframe.to_excel(caminho_completo, index=False)"
   ]
  },
  {
   "cell_type": "code",
   "execution_count": 22,
   "id": "e70d0c38",
   "metadata": {},
   "outputs": [],
   "source": [
    "salvar_dataframe(df1, 'Facebook.xlsx')\n",
    "salvar_dataframe(df2, 'Moskit.xlsx')\n"
   ]
  },
  {
   "cell_type": "code",
   "execution_count": null,
   "id": "4d6694cd",
   "metadata": {},
   "outputs": [],
   "source": []
  }
 ],
 "metadata": {
  "kernelspec": {
   "display_name": "Python 3 (ipykernel)",
   "language": "python",
   "name": "python3"
  },
  "language_info": {
   "codemirror_mode": {
    "name": "ipython",
    "version": 3
   },
   "file_extension": ".py",
   "mimetype": "text/x-python",
   "name": "python",
   "nbconvert_exporter": "python",
   "pygments_lexer": "ipython3",
   "version": "3.9.13"
  }
 },
 "nbformat": 4,
 "nbformat_minor": 5
}
